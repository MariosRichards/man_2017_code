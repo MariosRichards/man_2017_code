{
 "cells": [
  {
   "cell_type": "code",
   "execution_count": 1,
   "metadata": {
    "collapsed": true
   },
   "outputs": [],
   "source": [
    "import numpy as np\n",
    "import pandas as pd\n",
    "%matplotlib inline\n",
    "import matplotlib.pyplot as plt\n",
    "import gc\n",
    "import re\n",
    "\n",
    "from sklearn import datasets\n",
    "from sklearn.decomposition import PCA\n",
    "from sklearn.discriminant_analysis import LinearDiscriminantAnalysis\n",
    "from sklearn.preprocessing import StandardScaler"
   ]
  },
  {
   "cell_type": "code",
   "execution_count": 2,
   "metadata": {
    "collapsed": false
   },
   "outputs": [
    {
     "name": "stdout",
     "output_type": "stream",
     "text": [
      "(313, 83)\n",
      "Wall time: 18 ms\n"
     ]
    }
   ],
   "source": [
    "%%time\n",
    "# Load BES Panel for Wave 8\n",
    "parsed_data = pd.read_pickle(\"man_of_2017_parsed.pkl\")\n",
    "#(31409, 733)\n",
    "\n",
    "# BES_Panel = pd.read_stata(\"../BES_analysis_data/BES2015_W8_v1.6.dta\")\n",
    "\n",
    "print( parsed_data.shape )"
   ]
  },
  {
   "cell_type": "code",
   "execution_count": 3,
   "metadata": {
    "collapsed": true
   },
   "outputs": [],
   "source": [
    "numerics_only = pd.DataFrame()\n",
    "for col in parsed_data.columns:\n",
    "    # drop object and datetime64[ns] silently\n",
    "    if str( parsed_data[col].dtype ) == 'category':\n",
    "        numerics_only[col] = parsed_data[col].cat.codes.astype('float')\n",
    "    elif ( str( parsed_data[col].dtypes ) == 'bool') | ( str( parsed_data[col].dtypes ) == 'int64' ) :\n",
    "        numerics_only[col] = parsed_data[col].astype('float')\n"
   ]
  },
  {
   "cell_type": "code",
   "execution_count": 4,
   "metadata": {
    "collapsed": true
   },
   "outputs": [],
   "source": [
    "non_ordinal = [ \"how_would_you_describe_your\" , \"where_do_you_live\" ]\n",
    "pol_identity = parsed_data.columns[parsed_data.dtypes==bool]"
   ]
  },
  {
   "cell_type": "code",
   "execution_count": 5,
   "metadata": {
    "collapsed": false
   },
   "outputs": [
    {
     "data": {
      "text/plain": [
       "socialist                163\n",
       "liberal                  181\n",
       "feminist                 210\n",
       "egalitarian              105\n",
       "libertarian               36\n",
       "anarchist                 24\n",
       "moderate                 104\n",
       "conservative              25\n",
       "men_s_rights_activist     10\n",
       "dtype: int64"
      ]
     },
     "execution_count": 5,
     "metadata": {},
     "output_type": "execute_result"
    }
   ],
   "source": [
    "parsed_data[ parsed_data.columns[parsed_data.dtypes==bool] ].sum()"
   ]
  },
  {
   "cell_type": "code",
   "execution_count": 6,
   "metadata": {
    "collapsed": true
   },
   "outputs": [],
   "source": [
    "temp = StandardScaler().fit_transform( numerics_only )\n",
    "man_std = pd.DataFrame(temp,\n",
    "                       columns = numerics_only.columns,\n",
    "                       index   = numerics_only.index)\n",
    "# man_std.drop(non_ordinal, axis=1,inplace=True)\n",
    "# man_std.drop(pol_identity, axis=1,inplace=True)"
   ]
  },
  {
   "cell_type": "code",
   "execution_count": null,
   "metadata": {
    "collapsed": true
   },
   "outputs": [],
   "source": []
  },
  {
   "cell_type": "code",
   "execution_count": 8,
   "metadata": {
    "collapsed": true
   },
   "outputs": [],
   "source": [
    "import numpy as np\n",
    "from sklearn.cluster import MeanShift, estimate_bandwidth\n",
    "from sklearn.datasets.samples_generator import make_blobs"
   ]
  },
  {
   "cell_type": "code",
   "execution_count": 9,
   "metadata": {
    "collapsed": true
   },
   "outputs": [],
   "source": [
    "centers = [[1, 1], [-1, -1], [1, -1]]\n",
    "X, _ = make_blobs(n_samples=10000, centers=centers, cluster_std=0.6)"
   ]
  },
  {
   "cell_type": "code",
   "execution_count": 17,
   "metadata": {
    "collapsed": false
   },
   "outputs": [],
   "source": [
    "X = man_std.values"
   ]
  },
  {
   "cell_type": "code",
   "execution_count": 20,
   "metadata": {
    "collapsed": false
   },
   "outputs": [
    {
     "name": "stdout",
     "output_type": "stream",
     "text": [
      "number of estimated clusters : 1\n"
     ]
    }
   ],
   "source": [
    "# The following bandwidth can be automatically detected using\n",
    "bandwidth = estimate_bandwidth(X, quantile=0.2, n_samples=500)\n",
    "\n",
    "ms = MeanShift(bandwidth=bandwidth, bin_seeding=True)\n",
    "ms.fit(X)\n",
    "labels = ms.labels_\n",
    "cluster_centers = ms.cluster_centers_\n",
    "\n",
    "labels_unique = np.unique(labels)\n",
    "n_clusters_ = len(labels_unique)\n",
    "\n",
    "print(\"number of estimated clusters : %d\" % n_clusters_)"
   ]
  },
  {
   "cell_type": "code",
   "execution_count": 21,
   "metadata": {
    "collapsed": false
   },
   "outputs": [
    {
     "data": {
      "image/png": "[encoded data removed]",
      "text/plain": [
       "<matplotlib.figure.Figure at 0xac5d400>"
      ]
     },
     "metadata": {},
     "output_type": "display_data"
    }
   ],
   "source": [
    "import matplotlib.pyplot as plt\n",
    "from itertools import cycle\n",
    "\n",
    "plt.figure(1)\n",
    "plt.clf()\n",
    "\n",
    "colors = cycle('bgrcmykbgrcmykbgrcmykbgrcmyk')\n",
    "for k, col in zip(range(n_clusters_), colors):\n",
    "    my_members = labels == k\n",
    "    cluster_center = cluster_centers[k]\n",
    "    plt.plot(X[my_members, 0], X[my_members, 1], col + '.')\n",
    "    plt.plot(cluster_center[0], cluster_center[1], 'o', markerfacecolor=col,\n",
    "             markeredgecolor='k', markersize=14)\n",
    "plt.title('Estimated number of clusters: %d' % n_clusters_)\n",
    "plt.show()"
   ]
  },
  {
   "cell_type": "code",
   "execution_count": null,
   "metadata": {
    "collapsed": false
   },
   "outputs": [],
   "source": []
  },
  {
   "cell_type": "code",
   "execution_count": null,
   "metadata": {
    "collapsed": false
   },
   "outputs": [],
   "source": []
  },
  {
   "cell_type": "code",
   "execution_count": 53,
   "metadata": {
    "collapsed": false
   },
   "outputs": [
    {
     "name": "stdout",
     "output_type": "stream",
     "text": [
      "Automatically created module for IPython interactive environment\n",
      "[ 0.08945721  0.09265199  0.08306763  0.13418421  0.07987285  0.09584678\n",
      "  0.07667806  0.15335293  0.07987285  0.11501549]\n",
      "True\n",
      "[ 0.08978328  0.09287926  0.08359133  0.13312693  0.08049536  0.09597523\n",
      "  0.07739938  0.15170279  0.08049536  0.11455108]\n",
      "True\n",
      "[ 0.09987395  0.09977698  0.09958305  0.1008436   0.09948609  0.09987395\n",
      "  0.09929216  0.10142539  0.09938912  0.10045574]\n",
      "True\n",
      "[ 0.09551733  0.09518335  0.08533169  0.13531031  0.08138265  0.09644149\n",
      "  0.07719498  0.14686696  0.07829019  0.10848105]\n",
      "True\n",
      "[ 0.09013278  0.0931683   0.08378477  0.1333266   0.08054828  0.09595583\n",
      "  0.0773155   0.15140185  0.08026003  0.11410606]\n",
      "True\n",
      "[ 0.08978746  0.09288265  0.08359355  0.13312915  0.08049589  0.09597491\n",
      "  0.07739835  0.15169925  0.08049267  0.11454612]\n",
      "True\n"
     ]
    }
   ],
   "source": []
  },
  {
   "cell_type": "code",
   "execution_count": null,
   "metadata": {
    "collapsed": false
   },
   "outputs": [],
   "source": []
  },
  {
   "cell_type": "code",
   "execution_count": null,
   "metadata": {
    "collapsed": true
   },
   "outputs": [],
   "source": []
  }
 ],
 "metadata": {
  "anaconda-cloud": {},
  "kernelspec": {
   "display_name": "Python [conda env:man_2017]",
   "language": "python",
   "name": "conda-env-man_2017-py"
  },
  "language_info": {
   "codemirror_mode": {
    "name": "ipython",
    "version": 3
   },
   "file_extension": ".py",
   "mimetype": "text/x-python",
   "name": "python",
   "nbconvert_exporter": "python",
   "pygments_lexer": "ipython3",
   "version": "3.5.2"
  }
 },
 "nbformat": 4,
 "nbformat_minor": 2
}
