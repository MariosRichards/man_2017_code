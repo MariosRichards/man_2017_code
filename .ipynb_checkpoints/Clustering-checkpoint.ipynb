{
 "cells": [
  {
   "cell_type": "code",
   "execution_count": 1,
   "metadata": {
    "collapsed": true
   },
   "outputs": [],
   "source": [
    "import numpy as np\n",
    "import pandas as pd\n",
    "%matplotlib inline\n",
    "import matplotlib.pyplot as plt\n",
    "import gc\n",
    "import re\n",
    "\n",
    "from sklearn import datasets\n",
    "from sklearn.decomposition import PCA\n",
    "from sklearn.discriminant_analysis import LinearDiscriminantAnalysis\n",
    "from sklearn.preprocessing import StandardScaler"
   ]
  },
  {
   "cell_type": "code",
   "execution_count": 2,
   "metadata": {
    "collapsed": false
   },
   "outputs": [
    {
     "name": "stdout",
     "output_type": "stream",
     "text": [
      "(313, 83)\n",
      "Wall time: 18 ms\n"
     ]
    }
   ],
   "source": [
    "%%time\n",
    "# Load BES Panel for Wave 8\n",
    "parsed_data = pd.read_pickle(\"man_of_2017_parsed.pkl\")\n",
    "#(31409, 733)\n",
    "\n",
    "# BES_Panel = pd.read_stata(\"../BES_analysis_data/BES2015_W8_v1.6.dta\")\n",
    "\n",
    "print( parsed_data.shape )"
   ]
  },
  {
   "cell_type": "code",
   "execution_count": 3,
   "metadata": {
    "collapsed": true
   },
   "outputs": [],
   "source": [
    "numerics_only = pd.DataFrame()\n",
    "for col in parsed_data.columns:\n",
    "    # drop object and datetime64[ns] silently\n",
    "    if str( parsed_data[col].dtype ) == 'category':\n",
    "        numerics_only[col] = parsed_data[col].cat.codes.astype('float')\n",
    "    elif ( str( parsed_data[col].dtypes ) == 'bool') | ( str( parsed_data[col].dtypes ) == 'int64' ) :\n",
    "        numerics_only[col] = parsed_data[col].astype('float')\n"
   ]
  },
  {
   "cell_type": "code",
   "execution_count": 4,
   "metadata": {
    "collapsed": true
   },
   "outputs": [],
   "source": [
    "non_ordinal = [ \"how_would_you_describe_your\" , \"where_do_you_live\" ]\n",
    "pol_identity = parsed_data.columns[parsed_data.dtypes==bool]"
   ]
  },
  {
   "cell_type": "code",
   "execution_count": 5,
   "metadata": {
    "collapsed": false
   },
   "outputs": [
    {
     "data": {
      "text/plain": [
       "socialist                163\n",
       "liberal                  181\n",
       "feminist                 210\n",
       "egalitarian              105\n",
       "libertarian               36\n",
       "anarchist                 24\n",
       "moderate                 104\n",
       "conservative              25\n",
       "men_s_rights_activist     10\n",
       "dtype: int64"
      ]
     },
     "execution_count": 5,
     "metadata": {},
     "output_type": "execute_result"
    }
   ],
   "source": [
    "parsed_data[ parsed_data.columns[parsed_data.dtypes==bool] ].sum()"
   ]
  },
  {
   "cell_type": "code",
   "execution_count": 6,
   "metadata": {
    "collapsed": true
   },
   "outputs": [],
   "source": [
    "temp = StandardScaler().fit_transform( numerics_only )\n",
    "man_std = pd.DataFrame(temp,\n",
    "                       columns = numerics_only.columns,\n",
    "                       index   = numerics_only.index)\n",
    "# man_std.drop(non_ordinal, axis=1,inplace=True)\n",
    "# man_std.drop(pol_identity, axis=1,inplace=True)"
   ]
  },
  {
   "cell_type": "code",
   "execution_count": null,
   "metadata": {
    "collapsed": true
   },
   "outputs": [],
   "source": []
  },
  {
   "cell_type": "code",
   "execution_count": 8,
   "metadata": {
    "collapsed": true
   },
   "outputs": [],
   "source": [
    "import numpy as np\n",
    "from sklearn.cluster import MeanShift, estimate_bandwidth\n",
    "from sklearn.datasets.samples_generator import make_blobs"
   ]
  },
  {
   "cell_type": "code",
   "execution_count": 9,
   "metadata": {
    "collapsed": true
   },
   "outputs": [],
   "source": [
    "centers = [[1, 1], [-1, -1], [1, -1]]\n",
    "X, _ = make_blobs(n_samples=10000, centers=centers, cluster_std=0.6)"
   ]
  },
  {
   "cell_type": "code",
   "execution_count": 17,
   "metadata": {
    "collapsed": false
   },
   "outputs": [],
   "source": [
    "X = man_std.values"
   ]
  },
  {
   "cell_type": "code",
   "execution_count": 20,
   "metadata": {
    "collapsed": false
   },
   "outputs": [
    {
     "name": "stdout",
     "output_type": "stream",
     "text": [
      "number of estimated clusters : 1\n"
     ]
    }
   ],
   "source": [
    "# The following bandwidth can be automatically detected using\n",
    "bandwidth = estimate_bandwidth(X, quantile=0.2, n_samples=500)\n",
    "\n",
    "ms = MeanShift(bandwidth=bandwidth, bin_seeding=True)\n",
    "ms.fit(X)\n",
    "labels = ms.labels_\n",
    "cluster_centers = ms.cluster_centers_\n",
    "\n",
    "labels_unique = np.unique(labels)\n",
    "n_clusters_ = len(labels_unique)\n",
    "\n",
    "print(\"number of estimated clusters : %d\" % n_clusters_)"
   ]
  },
  {
   "cell_type": "code",
   "execution_count": 21,
   "metadata": {
    "collapsed": false
   },
   "outputs": [
    {
     "data": {
      "image/png": "[encoded data removed]",
      "text/plain": [
       "<matplotlib.figure.Figure at 0xac5d400>"
      ]
     },
     "metadata": {},
     "output_type": "display_data"
    }
   ],
   "source": [
    "import matplotlib.pyplot as plt\n",
    "from itertools import cycle\n",
    "\n",
    "plt.figure(1)\n",
    "plt.clf()\n",
    "\n",
    "colors = cycle('bgrcmykbgrcmykbgrcmykbgrcmyk')\n",
    "for k, col in zip(range(n_clusters_), colors):\n",
    "    my_members = labels == k\n",
    "    cluster_center = cluster_centers[k]\n",
    "    plt.plot(X[my_members, 0], X[my_members, 1], col + '.')\n",
    "    plt.plot(cluster_center[0], cluster_center[1], 'o', markerfacecolor=col,\n",
    "             markeredgecolor='k', markersize=14)\n",
    "plt.title('Estimated number of clusters: %d' % n_clusters_)\n",
    "plt.show()"
   ]
  },
  {
   "cell_type": "code",
   "execution_count": null,
   "metadata": {
    "collapsed": false
   },
   "outputs": [],
   "source": []
  },
  {
   "cell_type": "code",
   "execution_count": null,
   "metadata": {
    "collapsed": false
   },
   "outputs": [],
   "source": []
  },
  {
   "cell_type": "code",
   "execution_count": 49,
   "metadata": {
    "collapsed": false
   },
   "outputs": [
    {
     "name": "stdout",
     "output_type": "stream",
     "text": [
      "Automatically created module for IPython interactive environment\n",
      "[  4.79173321e-02   3.19459529e-02   1.91688494e-02   3.51402287e-02\n",
      "   9.58602185e-03   6.39174599e-03   1.59745736e-02   4.47230563e-02\n",
      "   6.39174599e-03   1.27802977e-02   9.58602185e-03   4.15287804e-02\n",
      "   6.39174599e-03   3.19427586e-06   9.58602185e-03   1.59745736e-02\n",
      "   5.75001597e-02   3.19427586e-06   2.55574011e-02   3.19427586e-06\n",
      "   3.83345046e-02   3.19747013e-03   6.39174599e-03   9.58602185e-03\n",
      "   3.19747013e-03   9.58602185e-03   2.55574011e-02   3.19747013e-03\n",
      "   6.39174599e-03   9.58602185e-03   9.58602185e-03   9.58602185e-03\n",
      "   2.23631253e-02   1.27802977e-02   3.19747013e-03   1.91688494e-02\n",
      "   1.91688494e-02   1.91688494e-02   9.58602185e-03   3.19427586e-06\n",
      "   6.38887114e-02   3.19427586e-06   5.43058839e-02   1.59745736e-02\n",
      "   3.19427586e-06   3.19427586e-06   4.47230563e-02   1.59745736e-02\n",
      "   6.39174599e-03   3.83345046e-02   2.55574011e-02   2.23631253e-02\n",
      "   2.87516770e-02   2.55574011e-02   3.19747013e-03   3.19747013e-03\n",
      "   6.39174599e-03   3.19747013e-03   3.19747013e-03   3.19747013e-03]\n",
      "[ 0.04289544  0.02949062  0.01876676  0.03217158  0.01072386  0.0080429\n",
      "  0.01608579  0.04021448  0.0080429   0.01340483  0.01340483  0.03753351\n",
      "  0.0080429   0.00268097  0.01072386  0.01608579  0.05093834  0.00268097\n",
      "  0.02412869  0.00268097  0.03485255  0.00536193  0.0080429   0.01072386\n",
      "  0.00536193  0.01072386  0.02412869  0.00536193  0.0080429   0.01072386\n",
      "  0.01072386  0.01072386  0.02144772  0.01340483  0.00536193  0.01876676\n",
      "  0.01876676  0.01876676  0.01072386  0.00268097  0.05630027  0.00268097\n",
      "  0.04557641  0.01608579  0.00268097  0.00268097  0.04021448  0.01608579\n",
      "  0.0080429   0.03485255  0.02412869  0.02144772  0.02680965  0.02412869\n",
      "  0.00536193  0.00536193  0.0080429   0.00536193  0.00536193  0.00536193]\n",
      "[ 0.01682888  0.01674598  0.01667965  0.01676256  0.01662991  0.01661333\n",
      "  0.01666307  0.0168123   0.01661333  0.01664649  0.01664649  0.01679572\n",
      "  0.01661333  0.01658017  0.01662991  0.01666307  0.01687862  0.01658017\n",
      "  0.01671281  0.01658017  0.01677914  0.01659675  0.01661333  0.01662991\n",
      "  0.01659675  0.01662991  0.01671281  0.01659675  0.01661333  0.01662991\n",
      "  0.01662991  0.01662991  0.01669623  0.01664649  0.01659675  0.01667965\n",
      "  0.01667965  0.01667965  0.01662991  0.01658017  0.01691178  0.01658017\n",
      "  0.01684546  0.01666307  0.01658017  0.01658017  0.0168123   0.01666307\n",
      "  0.01661333  0.01677914  0.01671281  0.01669623  0.01672939  0.01671281\n",
      "  0.01659675  0.01659675  0.01661333  0.01659675  0.01659675  0.01659675]\n",
      "[ 0.05080866  0.03481452  0.0220783   0.04085818  0.01252553  0.00935922\n",
      "  0.0217564   0.04644223  0.01233445  0.01535488  0.0152909   0.03958788\n",
      "  0.00909488  0.00301797  0.01201751  0.01794395  0.05655697  0.0029615\n",
      "  0.02651747  0.00293071  0.03789662  0.00579712  0.008646    0.01146136\n",
      "  0.00569697  0.01132652  0.02533114  0.00559352  0.00833683  0.01104406\n",
      "  0.0109714   0.01089777  0.02164625  0.01343158  0.00533283  0.01852563\n",
      "  0.0183809   0.01823023  0.01032747  0.00255902  0.05072747  0.00250939\n",
      "  0.04220582  0.0147052   0.00241729  0.00238418  0.03527278  0.01386998\n",
      "  0.00680656  0.02892789  0.01952632  0.01681434  0.0201772   0.01702451\n",
      "  0.00331032  0.00283742  0.00354677  0.00177339  0.00118226  0.00029556]\n",
      "[ 0.04389269  0.03015299  0.01917338  0.03284304  0.01093907  0.00819784\n",
      "  0.01638274  0.04092439  0.00817832  0.01361959  0.01360863  0.03807338\n",
      "  0.00815192  0.00271509  0.01085146  0.01626385  0.0514598   0.00270615\n",
      "  0.02433498  0.00270161  0.03509143  0.00539409  0.00808426  0.01076983\n",
      "  0.00538032  0.01075144  0.02417001  0.00536648  0.00804277  0.01071441\n",
      "  0.01070512  0.01069581  0.02137297  0.01334639  0.00533386  0.01865205\n",
      "  0.01863553  0.01861894  0.01062987  0.00265508  0.05570665  0.00265027\n",
      "  0.04501346  0.01587237  0.00264293  0.00264047  0.03957007  0.01581308\n",
      "  0.00789904  0.03419664  0.02365183  0.02100348  0.02622873  0.02358263\n",
      "  0.00523538  0.00523019  0.00783748  0.00521978  0.00521458  0.00520937]\n",
      "[ 0.04290722  0.02949842  0.01877154  0.03217945  0.01072638  0.0080447\n",
      "  0.01608925  0.04022271  0.00804446  0.0134073   0.01340717  0.0375397\n",
      "  0.00804414  0.00268135  0.01072531  0.0160878   0.0509442   0.00268125\n",
      "  0.02413098  0.00268119  0.03485516  0.00536228  0.00804334  0.01072434\n",
      "  0.00536212  0.01072413  0.02412905  0.00536196  0.00804286  0.0107237\n",
      "  0.0107236   0.01072349  0.02144676  0.01340409  0.00536158  0.01876535\n",
      "  0.01876517  0.01876498  0.01072274  0.00268066  0.05629325  0.0026806\n",
      "  0.04556982  0.0160833   0.00268052  0.0026805   0.04020705  0.01608266\n",
      "  0.00804125  0.03484507  0.02412327  0.02144269  0.0268031   0.02412255\n",
      "  0.00536051  0.00536046  0.00804061  0.00536035  0.0053603   0.00536024]\n"
     ]
    }
   ],
   "source": [
    "# Author: Thierry Guillemot <thierry.guillemot.work@gmail.com>\n",
    "# License: BSD 3 clause\n",
    "\n",
    "import numpy as np\n",
    "import matplotlib as mpl\n",
    "import matplotlib.pyplot as plt\n",
    "import matplotlib.gridspec as gridspec\n",
    "\n",
    "from sklearn.mixture import BayesianGaussianMixture\n",
    "\n",
    "print(__doc__)\n",
    "\n",
    "\n",
    "# def plot_ellipses(ax, weights, means, covars):\n",
    "#     for n in range(means.shape[0]):\n",
    "#         eig_vals, eig_vecs = np.linalg.eigh(covars[n])\n",
    "#         unit_eig_vec = eig_vecs[0] / np.linalg.norm(eig_vecs[0])\n",
    "#         angle = np.arctan2(unit_eig_vec[1], unit_eig_vec[0])\n",
    "#         # Ellipse needs degrees\n",
    "#         angle = 180 * angle / np.pi\n",
    "#         # eigenvector normalization\n",
    "#         eig_vals = 2 * np.sqrt(2) * np.sqrt(eig_vals)\n",
    "#         ell = mpl.patches.Ellipse(means[n], eig_vals[0], eig_vals[1],\n",
    "#                                   180 + angle)\n",
    "#         ell.set_clip_box(ax.bbox)\n",
    "#         ell.set_alpha(weights[n])\n",
    "#         ell.set_facecolor('#56B4E9')\n",
    "#         ax.add_artist(ell)\n",
    "\n",
    "\n",
    "def plot_results(ax1, ax2, estimator, X, y, title, plot_title=False):\n",
    "    ax1.set_title(title)\n",
    "    ax1.scatter(X[:, 0], X[:, 1], s=5, marker='o', color=colors[y], alpha=0.8)\n",
    "    ax1.set_xlim(-2., 2.)\n",
    "    ax1.set_ylim(-3., 3.)\n",
    "    ax1.set_xticks(())\n",
    "    ax1.set_yticks(())\n",
    "    plot_ellipses(ax1, estimator.weights_, estimator.means_,\n",
    "                  estimator.covariances_)\n",
    "\n",
    "    ax2.get_xaxis().set_tick_params(direction='out')\n",
    "    ax2.yaxis.grid(True, alpha=0.7)\n",
    "    for k, w in enumerate(estimator.weights_):\n",
    "        ax2.bar(k - .45, w, width=0.9, color='#56B4E9', zorder=3)\n",
    "        ax2.text(k, w + 0.007, \"%.1f%%\" % (w * 100.),\n",
    "                 horizontalalignment='center')\n",
    "    ax2.set_xlim(-.6, 2 * n_components - .4)\n",
    "    ax2.set_ylim(0., 1.1)\n",
    "    ax2.tick_params(axis='y', which='both', left='off',\n",
    "                    right='off', labelleft='off')\n",
    "    ax2.tick_params(axis='x', which='both', top='off')\n",
    "\n",
    "    if plot_title:\n",
    "        ax1.set_ylabel('Estimated Mixtures')\n",
    "        ax2.set_ylabel('Weight of each component')\n",
    "\n",
    "# # Parameters of the dataset\n",
    "# random_state, n_components, n_features = 2, 3, 2\n",
    "# colors = np.array(['#0072B2', '#F0E442', '#D55E00'])\n",
    "\n",
    "# covars = np.array([[[.7, .0], [.0, .1]],\n",
    "#                    [[.5, .0], [.0, .1]],\n",
    "#                    [[.5, .0], [.0, .1]]])\n",
    "# samples = np.array([200, 500, 200])\n",
    "# means = np.array([[.0, -.70],\n",
    "#                   [.0, .0],\n",
    "#                   [.0, .70]])\n",
    "n_components = 10\n",
    "# mean_precision_prior= 0.8 to minimize the influence of the prior\n",
    "estimators = [\n",
    "    (\"Finite mixture with a Dirichlet distribution\\nprior and \"\n",
    "     r\"$\\gamma_0=$\", BayesianGaussianMixture(\n",
    "        weight_concentration_prior_type=\"dirichlet_distribution\",\n",
    "        n_components=2 * n_components, reg_covar=0, init_params='random',\n",
    "        max_iter=1500, mean_precision_prior=.8,\n",
    "        random_state=random_state), [0.001, 1, 1000]),\n",
    "    (\"Infinite mixture with a Dirichlet process\\n prior and\" r\"$\\gamma_0=$\",\n",
    "     BayesianGaussianMixture(\n",
    "        weight_concentration_prior_type=\"dirichlet_process\",\n",
    "        n_components=2 * n_components, reg_covar=0, init_params='random',\n",
    "        max_iter=1500, mean_precision_prior=.8,\n",
    "        random_state=random_state), [1, 1000, 100000])]\n",
    "\n",
    "# # Generate data\n",
    "# rng = np.random.RandomState(random_state)\n",
    "# X = np.vstack([\n",
    "#     rng.multivariate_normal(means[j], covars[j], samples[j])\n",
    "#     for j in range(n_components)])\n",
    "\n",
    "y = np.ones( len(X)*n_components, dtype=int ) \n",
    "\n",
    "X = man_std\n",
    "\n",
    "# Plot results in two different figures\n",
    "for (title, estimator, concentrations_prior) in estimators:\n",
    "#     plt.figure(figsize=(4.7 * 3, 8))\n",
    "#     plt.subplots_adjust(bottom=.04, top=0.90, hspace=.05, wspace=.05,\n",
    "#                         left=.03, right=.99)\n",
    "\n",
    "    gs = gridspec.GridSpec(3, len(concentrations_prior))\n",
    "    for k, concentration in enumerate(concentrations_prior):\n",
    "        estimator.weight_concentration_prior = concentration\n",
    "        estimator.fit(X)\n",
    "        print ( estimator.weights_)\n",
    "        \n",
    "#         plot_results(plt.subplot(gs[0:2, k]), plt.subplot(gs[2, k]), estimator,\n",
    "#                      X, y, r\"%s$%.1e$\" % (title, concentration),\n",
    "#                      plot_title=k == 0)\n",
    "\n",
    "# plt.show()"
   ]
  },
  {
   "cell_type": "code",
   "execution_count": 47,
   "metadata": {
    "collapsed": false
   },
   "outputs": [
    {
     "data": {
      "text/plain": [
       "BayesianGaussianMixture(covariance_prior=None, covariance_type='full',\n",
       "            degrees_of_freedom_prior=None, init_params='random',\n",
       "            max_iter=1500, mean_precision_prior=0.8, mean_prior=None,\n",
       "            n_components=6, n_init=1, random_state=2, reg_covar=0,\n",
       "            tol=0.001, verbose=0, verbose_interval=10, warm_start=False,\n",
       "            weight_concentration_prior=100000,\n",
       "            weight_concentration_prior_type='dirichlet_process')"
      ]
     },
     "execution_count": 47,
     "metadata": {},
     "output_type": "execute_result"
    }
   ],
   "source": [
    "estimator"
   ]
  },
  {
   "cell_type": "code",
   "execution_count": null,
   "metadata": {
    "collapsed": true
   },
   "outputs": [],
   "source": []
  }
 ],
 "metadata": {
  "anaconda-cloud": {},
  "kernelspec": {
   "display_name": "Python [conda env:man_2017]",
   "language": "python",
   "name": "conda-env-man_2017-py"
  },
  "language_info": {
   "codemirror_mode": {
    "name": "ipython",
    "version": 3
   },
   "file_extension": ".py",
   "mimetype": "text/x-python",
   "name": "python",
   "nbconvert_exporter": "python",
   "pygments_lexer": "ipython3",
   "version": "3.5.2"
  }
 },
 "nbformat": 4,
 "nbformat_minor": 2
}
